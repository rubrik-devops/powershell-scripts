{
    "metadata": {
        "kernelspec": {
            "name": "powershell",
            "display_name": "PowerShell"
        },
        "language_info": {
            "name": "powershell",
            "codemirror_mode": "shell",
            "mimetype": "text/x-sh",
            "file_extension": ".ps1"
        }
    },
    "nbformat_minor": 2,
    "nbformat": 4,
    "cells": [
        {
            "cell_type": "markdown",
            "source": [
                "# 5.2 SQL Server Backup File Download Process"
            ],
            "metadata": {
                "azdata_cell_guid": "cd29d632-250e-418b-b52e-efcf7e958e40"
            }
        },
        {
            "cell_type": "markdown",
            "source": [
                "## Connect to Rubrik\r\n",
                "Lets connect to our Rubrik Cluster. \r\n",
                "For this demo, we will use [sand1-rbk01.rubrikdemo.com](sand1-rbk01.rubrikdemo.com) as this cluster has already been upgraded to 5.2"
            ],
            "metadata": {
                "azdata_cell_guid": "f50e5ddb-0053-49fe-993b-ad691ac2b99e"
            }
        },
        {
            "cell_type": "code",
            "source": [
                "$RubrikServer = \"sand1-rbk01.rubrikdemo.com\"\r\n",
                "Connect-Rubrik -Server $RubrikServer"
            ],
            "metadata": {
                "azdata_cell_guid": "4324ef43-b9d1-4af7-9460-73c3c9590ed3",
                "tags": []
            },
            "outputs": [],
            "execution_count": null
        },
        {
            "cell_type": "markdown",
            "source": [
                "## Get database information from Rubrik\r\n",
                "For this demo, we will use teh AdventureWorks2017 database on sx1-sql17-1. This functionality will work with any version of SQL Server, we just happen to be using SQL Server 2017"
            ],
            "metadata": {
                "azdata_cell_guid": "05092487-7d41-4441-ae6a-237eb2c60b27"
            }
        },
        {
            "cell_type": "code",
            "source": [
                "$RubrikDatabase = Get-RubrikDatabase -Name \"AdventureWorks2017\" -ServerInstance \"sx1-sql17-1\" -DetailedObject"
            ],
            "metadata": {
                "azdata_cell_guid": "0e5aec66-aab7-46fb-9d17-1705fb51ce8b"
            },
            "outputs": [],
            "execution_count": null
        },
        {
            "cell_type": "markdown",
            "source": [
                "## Browsing for files to download\r\n",
                "There is an endpoint called mssql/db/{ID}/browse that will allow you to see a list of available backups that Rubrik has. \r\n",
                "\r\n",
                "\r\n",
                "You have the ability to list backups based on:\r\n",
                "- Date Range: provide a start date and an end date in the ISO8601 format, such as \"2016-01-01T01:23:45.678\"\r\n",
                "    Returns the snapshots and logs that are in between a start and end date\r\n",
                "- LSNs\r\n",
                "    Returns the snapshots and logs that overlap the range specified by a start LSN and end LSN\r\n",
                "- Recovery Point specified in ISO8601 format, such as \"2016-01-01T01:23:45.678\".  \r\n",
                "    Returns the snapshot and list of logs needed to restore the database to the recovery point\r\n",
                "\r\n",
                "This endpoint is only used to fetch data, but uses POST instead of GET due to limitations on parameters used in the body of a GET request. The parameter set for this endpoint is shared with the download_file endpoint.\r\n",
                "There is also a paramter to specify the type of backup you wish to download; Snapshot or Log.\r\n",
                "\r\n",
                "**Important Note: While you are able to download both Snapshots and Logs, at this time you cannot use these to do a database recovery to a point in time. The best practice at this time, is to limit your query to backupType of Log so you can only download transaction log files. These can be used for 3rd party apps that need them for rolling the transactions forward.**"
            ],
            "metadata": {
                "azdata_cell_guid": "f4b0c7eb-f8bb-4bbf-b5f7-e1e5d480ea47"
            }
        },
        {
            "cell_type": "markdown",
            "source": [
                "### Browse for all files available for a date range"
            ],
            "metadata": {
                "azdata_cell_guid": "f40f2b11-6492-487e-8f97-ea46c17bb3f7"
            }
        },
        {
            "cell_type": "code",
            "source": [
                "# Browse for all files available\r\n",
                "$body = @{\r\n",
                "    startPoint=@{\r\n",
                "        date=\"2020-04-01T00:00:00.000Z\"\r\n",
                "    }\r\n",
                "    endPoint=@{\r\n",
                "        date=\"2020-04-13T00:00:00.000Z\"\r\n",
                "    }\r\n",
                "}\r\n",
                "$RubrikRequest = Invoke-RubrikRESTCall -Endpoint \"mssql/db/$($RubrikDatabase.id)/browse\" -Method POST -Body $body -Verbose\r\n",
                "$RubrikRequest.items"
            ],
            "metadata": {
                "azdata_cell_guid": "791e4d9c-b7ac-487f-bb59-f8039d48b864"
            },
            "outputs": [],
            "execution_count": null
        },
        {
            "cell_type": "markdown",
            "source": [
                "### Browse for all Transaction Log Backups"
            ],
            "metadata": {
                "azdata_cell_guid": "ecbbdaa0-a4cc-437a-89d9-f8030f6b267c"
            }
        },
        {
            "cell_type": "code",
            "source": [
                "# Browse for all log backups\r\n",
                "$body = @{\r\n",
                "    startPoint=@{\r\n",
                "        date=\"2020-04-01T00:00:00.000Z\"\r\n",
                "    }\r\n",
                "    endPoint=@{\r\n",
                "        date=\"2020-04-13T00:00:00.000Z\"\r\n",
                "    }\r\n",
                "    backupType=\"Log\"\r\n",
                "}\r\n",
                "$RubrikRequest = Invoke-RubrikRESTCall -Endpoint \"mssql/db/$($RubrikDatabase.id)/browse\" -Method POST -Body $body -Verbose\r\n",
                "$RubrikRequest.items"
            ],
            "metadata": {
                "azdata_cell_guid": "c84f926b-8028-4d0d-a66e-d12fce9db7ee"
            },
            "outputs": [],
            "execution_count": null
        },
        {
            "cell_type": "markdown",
            "source": [
                "### Browse for all Snapshots"
            ],
            "metadata": {
                "azdata_cell_guid": "5174b489-3ce5-4f35-844c-016081bbe875"
            }
        },
        {
            "cell_type": "code",
            "source": [
                "# Browse for all Snapshots\r\n",
                "$body = @{\r\n",
                "    startPoint=@{\r\n",
                "        date=\"2020-04-01T00:00:00.000Z\"\r\n",
                "    }\r\n",
                "    endPoint=@{\r\n",
                "        date=\"2020-04-13T00:00:00.000Z\"\r\n",
                "    }\r\n",
                "    backupType=\"Snapshot\"\r\n",
                "}\r\n",
                "$RubrikRequest = Invoke-RubrikRESTCall -Endpoint \"mssql/db/$($RubrikDatabase.id)/browse\" -Method POST -Body $body -Verbose\r\n",
                "$RubrikRequest.items"
            ],
            "metadata": {
                "azdata_cell_guid": "c00cfa4b-3c21-4330-85bf-46eadb396f5a"
            },
            "outputs": [],
            "execution_count": null
        },
        {
            "cell_type": "markdown",
            "source": [
                "## Download files found via Browse"
            ],
            "metadata": {
                "azdata_cell_guid": "113ac491-539a-41f0-8e82-96d48e1de3cc"
            }
        },
        {
            "cell_type": "markdown",
            "source": [
                "### Download 2 specific backups\r\n",
                "What is happening in the background:\r\n",
                "- Rubrik\r\n",
                "    - Gather all files related to backups requested\r\n",
                "    - Zip them up into a custom file for download\r\n",
                "- Download the custom zip from the link Rubrik prepared to C:\\Temp\r\n",
                "- Unzip the downloaded file to C:\\Temp\r\n",
                ""
            ],
            "metadata": {
                "azdata_cell_guid": "196e39e1-bdc1-4a16-aeba-89d7383ab6ea"
            }
        },
        {
            "cell_type": "code",
            "source": [
                "$body = @{\r\n",
                "    items = \"25b1da66-1db3-4d68-952f-17f8c8b295d9\",\"82e77bcc-fe1b-4840-9d6a-d9a70b9ea344\"\r\n",
                "\r\n",
                "}\r\n",
                "$RubrikRequest = Invoke-RubrikRESTCall -Endpoint \"mssql/db/$($RubrikDatabase.id)/download_files_by_id\" -Method POST -Body $Body\r\n",
                "$RubrikRequest = Get-RubrikRequest -id $RubrikRequest.id -WaitForCompletion -type mssql\r\n",
                "\r\n",
                "$url = ($RubrikRequest.links |Where-Object {$_.rel -eq \"result\"}).href\r\n",
                "$url\r\n",
                "$OutFile = \"C:\\Temp\\\" + (Split-Path -Path $url -Leaf)\r\n",
                "Invoke-WebRequest -Uri $url -OutFile $OutFile #-SkipCertificateCheck\r\n",
                "\r\n",
                "Expand-Archive -LiteralPath $OutFile -DestinationPath  \"C:\\temp\\\" -Force"
            ],
            "metadata": {
                "azdata_cell_guid": "d50d5727-5667-44ed-80e7-36e600011d73"
            },
            "outputs": [],
            "execution_count": null
        },
        {
            "cell_type": "markdown",
            "source": [
                "### Download all of the transaction log backups for a given day\r\n",
                "What is happening in the background:\r\n",
                "- Rubrik\r\n",
                "    - Gather all files related to backups requested\r\n",
                "    - Zip them up into a custom file for download\r\n",
                "- Download the custom zip from the link Rubrik prepared to C:\\Temp\r\n",
                "- Unzip the downloaded file to C:\\Temp"
            ],
            "metadata": {
                "azdata_cell_guid": "7732ed61-b55e-4604-b8ce-f9b0b0a3e8af"
            }
        },
        {
            "cell_type": "code",
            "source": [
                "# Download all log backups for a given day\r\n",
                "$body = @{\r\n",
                "    startPoint=@{\r\n",
                "        date=\"2020-04-13T00:00:00.000Z\"\r\n",
                "    }\r\n",
                "    endPoint=@{\r\n",
                "        date=\"2020-04-14T00:00:00.000Z\"\r\n",
                "    }\r\n",
                "    backupType=\"Log\"\r\n",
                "}\r\n",
                "$RubrikRequest = Invoke-RubrikRESTCall -Endpoint \"mssql/db/$($RubrikDatabase.id)/download_files\" -Method POST -Body $Body\r\n",
                "\r\n",
                "$RubrikRequest = Get-RubrikRequest -id $RubrikRequest.id -WaitForCompletion -type mssql\r\n",
                "\r\n",
                "$url = ($RubrikRequest.links |Where-Object {$_.rel -eq \"result\"}).href\r\n",
                "$url\r\n",
                "$OutFile = \"C:\\Temp\\\" + (Split-Path -Path $url -Leaf)\r\n",
                "Invoke-WebRequest -Uri $url -OutFile $OutFile -SkipCertificateCheck\r\n",
                "\r\n",
                "Expand-Archive -LiteralPath $OutFile -DestinationPath  \"C:\\temp\\\" -Force"
            ],
            "metadata": {
                "azdata_cell_guid": "d0380b92-7b35-4e3b-8984-fa92780d6fdc"
            },
            "outputs": [],
            "execution_count": null
        }
    ]
}